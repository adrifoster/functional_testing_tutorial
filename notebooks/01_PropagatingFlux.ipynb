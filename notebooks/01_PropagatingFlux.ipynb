{
 "cells": [
  {
   "cell_type": "markdown",
   "id": "8780b257-b3cc-4520-a9fc-9f64a183f8ff",
   "metadata": {
    "editable": true,
    "slideshow": {
     "slide_type": ""
    },
    "tags": []
   },
   "source": [
    "# Part 1: A Small Example\n",
    "\n",
    "## Investigating and testing the propagating flux ratio method\n",
    "\n",
    "In this section, we introduce a small, self-contained piece of fire modeling code: the **propagating flux ratio**.\n",
    "\n",
    "---\n",
    "\n",
    "## Goals\n",
    "* Use a method from production code for our `fire_model` code base\n",
    "* Explore how output changes across ranges of fuel packing (`beta`) and surface area to volume ratios (`sav`)\n",
    "* Introduce the concept of **functional testing** for scientific software: small, isolated tests of behavior, not necessarily pass/fail\n",
    "\n",
    "---\n"
   ]
  },
  {
   "cell_type": "markdown",
   "id": "dbe7744e-f0b5-49d3-bda8-0ccbc311162c",
   "metadata": {},
   "source": [
    "## A primer on fire behavior"
   ]
  },
  {
   "cell_type": "markdown",
   "id": "87ff2439-f609-432d-aa77-fc795b56f392",
   "metadata": {},
   "source": [
    "The equations in our source code come mainly from several scentific publications, including the original [Rothermel (1972)](https://research.fs.usda.gov/treesearch/32533) fire behavior model.\n",
    "The aim of this model is to predict fire spread for wildland fuels.\n",
    "\n",
    "Assuming an ignition event has occurred (e.g., lightning strike, etc.), the \n",
    "fire rate of spread ($ROS$, m min$^{-1}$) can be modeled as the ratio between the heat flux from the flaming front (i.e., the energy available to heat unburnbed fuel) to the \n",
    "heat required for fuel ignition.\n",
    "\n",
    "$$\n",
    "\\text{ROS} = \\frac{\\text{energy available to heat unburned fuel}}{\\text{heat required for fuel ignition}}\n",
    "$$"
   ]
  },
  {
   "cell_type": "markdown",
   "id": "86346464-6e5c-4e05-9f97-24513ae2ee96",
   "metadata": {},
   "source": [
    "The available energy is based on the heat given off by fuel when it is combusted (J kg$^{-1}$) as well as the rate at which the fuel is being burned (kg area$^{-1}$ time$^{-1}$). The heat required is baed on fuel physical and chemical properties, such as bulk density, surface area, mass, and moisture. In Rothermel's model, forward rate of spread ($ROS_f$, m min$^{-1}$), is calculated as:\n",
    "\n",
    "$$\n",
    "ROS_f = \\frac{I_R \\cdot \\xi \\cdot (1 + \\Theta_w)}{\\rho_b \\cdot \\epsilon \\cdot Q_{ign}}\n",
    "$$\n",
    "\n",
    "* $I_R$ - reaction intensity (kJ m$^2$ min$^{-1}$)\n",
    "* $\\xi$ - propagating flux ratio\n",
    "* $\\Theta_w$ - wind factor\n",
    "* $\\rho_b$ - bulk density of fuel (kg m$^{-2}$)\n",
    "* $Q_{ign}$ - heat of pre-ignition (kJ kg$^{-1}$)"
   ]
  },
  {
   "cell_type": "markdown",
   "id": "52871173-9378-4e55-b659-21ab1def65e7",
   "metadata": {},
   "source": [
    "## Propagating flux ratio\n",
    "\n",
    "The propagating flux ratio ($\\xi$) is the proportion of the total reaction intensity ($I_R$) that actually heats adjacent fuel particles to ignition. It is calculated as:\n",
    "\n",
    "$$\n",
    "\\xi = \\frac{\\exp\\Big[(0.792 + 3.7597\\sigma^{0.5})(\\beta + 0.1)\\Big]}{192 + 7.9095\\sigma}\n",
    "$$\n",
    "\n",
    "* $\\beta$ - packing ratio (fraction of fuel array volume occupied by fuel)\n",
    "* $\\sigma$ - fuel surface area to volume ratio (/cm)\n",
    "\n",
    "Below is a figure redrawn from a manuscript describing the Rothermel surface fire spread model. It shows how propagating flux changes with surface area to volume ratio and packing ratio.\n",
    "\n",
    "![Propagating Flux](../figs/prop_flux_ratio.png)"
   ]
  },
  {
   "cell_type": "markdown",
   "id": "21a56266-07fc-4c18-8aa5-d257225a8006",
   "metadata": {},
   "source": [
    "## Exercise 1.1 Test the propagating flux ratio\n",
    "\n",
    "Let's start by checking out the source code for this method. It's locating in our `FireEquations` class in `src/fire_model/fire_equations.py`.\n",
    "\n",
    "```python\n",
    "@staticmethod\n",
    "def propagating_flux(beta: float, sav: float) -> float:\n",
    "    \"\"\"Calculates propagating flux ratio [unitless]\n",
    "    Proportion of reaction intensity that heats adjacent fuel particles to ignition\n",
    "    Equation A2 in Thonicke et al. 2010 and Eq. 42 Rothermel 1972\n",
    "\n",
    "    Args:\n",
    "        beta (float): packing ratio [unitless]\n",
    "        sav (float): fuel surface area to volume ratio [/cm]\n",
    "\n",
    "    Returns:\n",
    "        float: propagating flux ratio [unitless]\n",
    "    \"\"\"\n",
    "    return (math.exp((0.792 + 3.7597 * (sav**0.5)) * (beta + 0.1))) / (\n",
    "        192.0 + 7.9095 * sav\n",
    "    )\n",
    "```"
   ]
  },
  {
   "cell_type": "markdown",
   "id": "770b1d9e-6831-4725-8ba9-2aadea853858",
   "metadata": {},
   "source": [
    "We can see that it depends on two input arguments: `beta`, and `sav`, which are floats, and it returns a float. If\n",
    "we wanted to design some **unit tests** for this method\n",
    "\n",
    "---\n",
    "\n",
    "### Quick Sanity Checks\n",
    "Try evaluating the function for a few inputs:"
   ]
  },
  {
   "cell_type": "code",
   "execution_count": null,
   "id": "161153e2-872b-4d7d-a668-883fb96a9dda",
   "metadata": {
    "editable": true,
    "slideshow": {
     "slide_type": ""
    },
    "tags": []
   },
   "outputs": [],
   "source": [
    "from fire_model import FireEquations\n",
    "print(FireEquations.propagating_flux(beta=0.01, sav=70))  # expected ~0.046\n",
    "print(FireEquations.propagating_flux(beta=0.02, sav=100))  # expected ~0.1"
   ]
  },
  {
   "cell_type": "markdown",
   "id": "0a2ad39a-dce5-400d-af2f-0388c824a738",
   "metadata": {},
   "source": [
    "Observe the trends: **increasing** `beta` **or** `SAV` **increases flux**, as physically expected, and as shown in the figure above.\n",
    "\n",
    "---\n",
    "\n",
    "<div class=\"alert alert-block alert-info\"><b>Note: </b> Notice how we are using the <em>actual</em> method from our <code>fire_code</code> source directory. This may seem normal in Python code, but you can apply the same logic in lower-level (e.g., Fortran) codebases. Because we are using the production code (and not say something we quickly mocked up) we <em>know</em> this is the behavior that will occur in production runs with this code.</div>"
   ]
  },
  {
   "cell_type": "markdown",
   "id": "244e8827-dfd8-4da8-945e-afe2a5dba870",
   "metadata": {},
   "source": [
    "### Exercise 1.2 - Functional Test"
   ]
  },
  {
   "cell_type": "markdown",
   "id": "6da6727f-bd83-4cf1-8b8a-00252bdb2cbb",
   "metadata": {},
   "source": [
    "Now let’s systematically explore behavior over ranges of `beta` and `SAV`. Instead of testing exact values, we’ll inspect outputs qualitatively:"
   ]
  },
  {
   "cell_type": "code",
   "execution_count": null,
   "id": "c3ae8584-af1e-4599-b25b-d57140f0b8cd",
   "metadata": {},
   "outputs": [],
   "source": [
    "import numpy as np\n",
    "import matplotlib.pyplot as plt\n",
    "\n",
    "sav_values = np.linspace(20, 120, 100)\n",
    "beta_values = [0.001, 0.005, 0.01, 0.02]\n",
    "\n",
    "plt.figure(figsize=(8, 5))\n",
    "for beta in beta_values:\n",
    "    flux = [FireEquations.propagating_flux(beta, sav) for sav in sav_values]\n",
    "    plt.plot(sav_values, flux, label=f\"β={beta}\")\n",
    "plt.xlabel(\"Surface area to volume ratio (cm$^{-1}$)\")\n",
    "plt.ylabel(\"Propagating flux ratio\")\n",
    "plt.grid(True, linestyle=\"--\", alpha=0.5)\n",
    "plt.tight_layout()\n",
    "plt.legend();"
   ]
  },
  {
   "cell_type": "markdown",
   "id": "ac7c0a20-c128-4531-ba7d-8cb885335def",
   "metadata": {},
   "source": [
    "#### Questions to explore:\n",
    "* Are all flux values positive?\n",
    "* Does the flux increase monotonically with `beta` and `SAV`?\n",
    "* Inspect this plot against the one above from Andrews et al. 2018. Do they look similar?\n",
    "* What if you had some data on propagating flux, how might you use that?\n",
    "\n",
    "---\n"
   ]
  },
  {
   "cell_type": "markdown",
   "id": "01db93d0-5892-43e1-a7fb-abfd665f630b",
   "metadata": {},
   "source": [
    "### Optional Extension:\n",
    "Try other methods of exploring the behavior of the `propagating_flux` method. Could you plot `beta` vs. propagating flux for different values of `SAV?`"
   ]
  },
  {
   "cell_type": "code",
   "execution_count": null,
   "id": "a987df65-1c64-4e11-87a1-4774f78ef172",
   "metadata": {},
   "outputs": [],
   "source": [
    "# TODO: plot beta (x-axis) vs. propagating flux (y-axis)"
   ]
  },
  {
   "cell_type": "markdown",
   "id": "9afb2e60-1f1f-4a7f-82ac-5fb3bcfc8d28",
   "metadata": {},
   "source": [
    "---\n",
    "## What We Just Did\n",
    "* Implemented a **small, isolated scientific computation**\n",
    "* Applied a **functional testing mindset**:\n",
    "   - Focused on **behavior across parameter ranges** rather than exact pass/fail\n",
    "   - Explored qualitative trends\n",
    "   - Used the **production code** rather than a prototype or mock-up\n",
    "* Compared to \"known\" values from a paper\n",
    "\n",
    "---\n",
    "\n",
    "## Looking Ahead\n",
    "Next we will:\n",
    "* Integrate these methods with a `Fuel` object for functional testing over different synthetic fuel classes"
   ]
  }
 ],
 "metadata": {
  "kernelspec": {
   "display_name": "Python 3 (ipykernel)",
   "language": "python",
   "name": "python3"
  },
  "language_info": {
   "codemirror_mode": {
    "name": "ipython",
    "version": 3
   },
   "file_extension": ".py",
   "mimetype": "text/x-python",
   "name": "python",
   "nbconvert_exporter": "python",
   "pygments_lexer": "ipython3",
   "version": "3.10.19"
  }
 },
 "nbformat": 4,
 "nbformat_minor": 5
}
