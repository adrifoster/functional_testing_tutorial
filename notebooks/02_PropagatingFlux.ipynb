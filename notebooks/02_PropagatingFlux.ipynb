{
 "cells": [
  {
   "cell_type": "markdown",
   "id": "8780b257-b3cc-4520-a9fc-9f64a183f8ff",
   "metadata": {
    "editable": true,
    "slideshow": {
     "slide_type": ""
    },
    "tags": []
   },
   "source": [
    "# Part 1: A Small Example\n",
    "\n",
    "Investigating and testing the propagating flux ratio method"
   ]
  },
  {
   "cell_type": "code",
   "execution_count": 2,
   "id": "161153e2-872b-4d7d-a668-883fb96a9dda",
   "metadata": {
    "editable": true,
    "slideshow": {
     "slide_type": ""
    },
    "tags": []
   },
   "outputs": [
    {
     "ename": "ModuleNotFoundError",
     "evalue": "No module named 'functional_testing_tutorial'",
     "output_type": "error",
     "traceback": [
      "\u001b[0;31m---------------------------------------------------------------------------\u001b[0m",
      "\u001b[0;31mModuleNotFoundError\u001b[0m                       Traceback (most recent call last)",
      "Cell \u001b[0;32mIn[2], line 1\u001b[0m\n\u001b[0;32m----> 1\u001b[0m \u001b[38;5;28;01mfrom\u001b[39;00m\u001b[38;5;250m \u001b[39m\u001b[38;5;21;01mfunctional_testing_tutorial\u001b[39;00m\u001b[38;5;250m \u001b[39m\u001b[38;5;28;01mimport\u001b[39;00m FireEquations, FireParams, Fuel\n\u001b[1;32m      2\u001b[0m FireEquations\u001b[38;5;241m.\u001b[39moptimum_packing_ratio()\n",
      "\u001b[0;31mModuleNotFoundError\u001b[0m: No module named 'functional_testing_tutorial'"
     ]
    }
   ],
   "source": [
    "from functional_testing_tutorial import FireEquations, FireParams, Fuel\n",
    "FireEquations.optimum_packing_ratio()"
   ]
  },
  {
   "cell_type": "code",
   "execution_count": null,
   "id": "e058a963-e2d8-4f0c-9cea-f20326732398",
   "metadata": {},
   "outputs": [],
   "source": []
  }
 ],
 "metadata": {
  "kernelspec": {
   "display_name": "Python 3 (ipykernel)",
   "language": "python",
   "name": "python3"
  },
  "language_info": {
   "codemirror_mode": {
    "name": "ipython",
    "version": 3
   },
   "file_extension": ".py",
   "mimetype": "text/x-python",
   "name": "python",
   "nbconvert_exporter": "python",
   "pygments_lexer": "ipython3",
   "version": "3.10.14"
  }
 },
 "nbformat": 4,
 "nbformat_minor": 5
}
