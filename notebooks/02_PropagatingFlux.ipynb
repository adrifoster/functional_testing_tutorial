{
 "cells": [
  {
   "cell_type": "markdown",
   "id": "8780b257-b3cc-4520-a9fc-9f64a183f8ff",
   "metadata": {
    "editable": true,
    "slideshow": {
     "slide_type": ""
    },
    "tags": []
   },
   "source": [
    "# Part 1: A Small Example\n",
    "\n",
    "Investigating and testing the propagating flux ratio method"
   ]
  },
  {
   "cell_type": "code",
   "execution_count": 3,
   "id": "161153e2-872b-4d7d-a668-883fb96a9dda",
   "metadata": {
    "editable": true,
    "slideshow": {
     "slide_type": ""
    },
    "tags": []
   },
   "outputs": [
    {
     "data": {
      "text/plain": [
       "0.05364142973392205"
      ]
     },
     "execution_count": 3,
     "metadata": {},
     "output_type": "execute_result"
    }
   ],
   "source": [
    "from fire_model import FireEquations, FireParams, Fuel\n",
    "FireEquations.optimum_packing_ratio(5.0)"
   ]
  },
  {
   "cell_type": "code",
   "execution_count": null,
   "id": "e058a963-e2d8-4f0c-9cea-f20326732398",
   "metadata": {},
   "outputs": [],
   "source": []
  }
 ],
 "metadata": {
  "kernelspec": {
   "display_name": "Python 3 (ipykernel)",
   "language": "python",
   "name": "python3"
  },
  "language_info": {
   "codemirror_mode": {
    "name": "ipython",
    "version": 3
   },
   "file_extension": ".py",
   "mimetype": "text/x-python",
   "name": "python",
   "nbconvert_exporter": "python",
   "pygments_lexer": "ipython3",
   "version": "3.10.19"
  }
 },
 "nbformat": 4,
 "nbformat_minor": 5
}
