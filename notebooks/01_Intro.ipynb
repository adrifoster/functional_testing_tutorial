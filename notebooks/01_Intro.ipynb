{
 "cells": [
  {
   "cell_type": "markdown",
   "id": "f46ce701-c9cb-4f27-9a53-8500ec0a9f54",
   "metadata": {},
   "source": [
    "# Functional Testing Practical"
   ]
  },
  {
   "cell_type": "markdown",
   "id": "d5495a11-a394-4cc2-94f7-4d0ce5ff5495",
   "metadata": {},
   "source": [
    "With this short tutorial, we’ll learn how to create some \"functional tests\" using a mock up of some production code."
   ]
  },
  {
   "cell_type": "markdown",
   "id": "8a2a1f49-9cbc-41a3-bc89-822ebc23acc1",
   "metadata": {},
   "source": [
    "## Why This Matters"
   ]
  },
  {
   "cell_type": "markdown",
   "id": "5db98eaa-c752-43bd-83e8-1743e2969dad",
   "metadata": {},
   "source": [
    "We often work with large code bases, and ensuring that each individual piece is working is difficult. By isolating individual parts of the code base, while still *utilizing* the codebase, we can exercise and test parts of the code, knowing that we are testing the actual production code.\n",
    "\n",
    "Unlike **unit tests**, functional tests don't necessarily have a pass/fail state. Functional tests can be used to explore output from a method given known input values, or a range of possible values.\n",
    "\n",
    "These tests can help with identifying code bugs and errors, or in exploring new ways of representing our science."
   ]
  },
  {
   "cell_type": "markdown",
   "id": "e6a06a1a-81ee-4d7f-984a-9010346b1921",
   "metadata": {},
   "source": [
    "## What We'll Do"
   ]
  },
  {
   "cell_type": "markdown",
   "id": "759f4392-2ab0-4135-bc48-3a194d656919",
   "metadata": {},
   "source": [
    "We will work through a few examples of creating functional tests for a mock up of a python library intended to simulate fire behavior. This code has been translated from the Fortran \"SPITFIRE\" code in the [FATES](https://github.com/NGEET/fates) repository for ease of use in this tutorial. However, the concepts here are directly applicable to the original code base (or other large Fortran codebases)."
   ]
  },
  {
   "cell_type": "markdown",
   "id": "8b795322-1433-4ad5-9d86-af455f3ae073",
   "metadata": {},
   "source": [
    "We will start with a basic example of utilizing and exercising a method from the source code. Gradually, we will explore more complex uses of the methods in the source code, investigating using synthetic fuels and comparing to and driving with known observational data."
   ]
  },
  {
   "cell_type": "markdown",
   "id": "3291ac7a-108d-45d1-9cb7-66f36921b028",
   "metadata": {},
   "source": [
    "## Source Code"
   ]
  },
  {
   "cell_type": "markdown",
   "id": "4244e219-0cfd-44fe-a5e1-fa54d0f6c8c8",
   "metadata": {},
   "source": [
    "The source code we will be using is a handful of methods from the SPITFIRE modules of the Fortran-based [FATES](https://github.com/NGEET/fates) repository. FATES (the Functionally Assembled Terrestrial Ecosystem Simulator) is FATES is a vegetation demographic model which can be run within a “host” land surface model like the Community Land Model ([CLM](https://github.com/ESCOMP/CTSM)). These methods have been translated to Python for ease of use for this tutorial.\n",
    "\n",
    "FATES can represent physiological and demographic processes for individual “cohorts” of plants of similar size and PFT that exist on landscape “patches”, which are fractions of the grid cell with similar time-since-disturbance. The [fire modules](https://github.com/NGEET/fates/tree/main/fire) within FATES are used to calculate fire weather, fuel conditions, fire risk, fire behavior, and fire mortality of plants. These methods are very important for accurately predicting wildfires as well as overal vegetation and carbon dynamics.\n",
    "\n",
    "As such, we should be testing them!"
   ]
  },
  {
   "cell_type": "markdown",
   "id": "74d1c416-a92f-4a78-989d-bb281b1cd88d",
   "metadata": {},
   "source": [
    "## Accessing and Setting Up Tutorial Library"
   ]
  },
  {
   "cell_type": "markdown",
   "id": "2047994f-a0b2-4d57-b4cb-570523398e33",
   "metadata": {},
   "source": [
    "### 1. Clone the repository\n",
    "\n",
    "Open a terminal and run:"
   ]
  },
  {
   "cell_type": "markdown",
   "id": "5876351c-6864-4322-82b0-f62207dbb361",
   "metadata": {},
   "source": [
    "```bash\n",
    "git clone https://github.com/adrifoster/functional_testing_tutorial\n",
    "cd functional_testing_tutorial\n",
    "```"
   ]
  },
  {
   "cell_type": "markdown",
   "id": "997e67dc-9966-4e23-9819-ed2b2bdfc946",
   "metadata": {},
   "source": [
    "Your repository should have this structure:\n",
    "\n",
    "```\n",
    "functional_testing_tutorial/\n",
    "├─ src/\n",
    "│  ├─ __init__.py\n",
    "│  ├─ fire_equations.py\n",
    "│  ├─ fire_params.py\n",
    "│  ├─ fire_weather_class.py\n",
    "│  ├─ fuel_class.py\n",
    "│  ├─ nesterov_fire_weather.py\n",
    "│  ├─ fuel_types.py\n",
    "│  └─ testing/\n",
    "│     ├─ __init__.py\n",
    "│     ├─ synthetic_fuel_models.py\n",
    "│     └─ testing_shr.py\n",
    "├─ notebooks/\n",
    "├─ data/\n",
    "├─ parameter_files/\n",
    "├─ setup.py\n",
    "├─ environment.yml\n",
    "└─ requirements.txt\n",
    "```"
   ]
  },
  {
   "cell_type": "markdown",
   "id": "84ee13af-a27c-46a6-81f3-05ffb83f09a9",
   "metadata": {},
   "source": [
    "### 2. Create Python environment"
   ]
  },
  {
   "cell_type": "markdown",
   "id": "72101d1f-1d1d-49ce-a012-e4bea6d0d7c7",
   "metadata": {},
   "source": [
    "#### Option A: Conda (recommended)\n",
    "\n",
    "In a terminal window type:"
   ]
  },
  {
   "cell_type": "markdown",
   "id": "1a99bae1-49ee-4264-80fd-687c42331744",
   "metadata": {
    "editable": true,
    "slideshow": {
     "slide_type": ""
    },
    "tags": []
   },
   "source": [
    "```bash\n",
    "conda env create -f environment.yml\n",
    "conda activate functional-testing-tutorial\n",
    "```"
   ]
  },
  {
   "cell_type": "markdown",
   "id": "a1ef3c6f-5de2-4f96-a36b-ad05a49961d0",
   "metadata": {},
   "source": [
    "#### Option B: Pip (if not using Conda)\n",
    "\n",
    "\n",
    "In a terminal window type:"
   ]
  },
  {
   "cell_type": "markdown",
   "id": "da6025e8-b93b-4b08-9e8a-18bc4ad16134",
   "metadata": {},
   "source": [
    "```bash\n",
    "python -m venv .venv\n",
    "source .venv/bin/activate       # macOS/Linux\n",
    ".venv\\Scripts\\activate          # Windows\n",
    "\n",
    "pip install --upgrade pip\n",
    "pip install -r requirements.txt\n",
    "```"
   ]
  },
  {
   "cell_type": "markdown",
   "id": "42b54350-eac9-4978-88ae-39ffc230bccc",
   "metadata": {},
   "source": [
    "### 3. Install tutorial library\n",
    "\n",
    "Once your environment is active, install the Python package in **editable mode**:"
   ]
  },
  {
   "cell_type": "markdown",
   "id": "9f625c0e-9fe4-4e72-9831-7de71326805d",
   "metadata": {},
   "source": [
    "```bash\n",
    "pip install -e .\n",
    "```"
   ]
  },
  {
   "cell_type": "markdown",
   "id": "87162e79-d642-452c-988e-635717095138",
   "metadata": {},
   "source": [
    "This makes `functional_testing_tutorial` importable anywhere in the environment and \n",
    "allows changes to `src/` to take effect immediately."
   ]
  },
  {
   "cell_type": "markdown",
   "id": "e8bfd784-329c-4e72-bc7d-f20fc45ddb40",
   "metadata": {},
   "source": [
    "#### Test the installation"
   ]
  },
  {
   "cell_type": "markdown",
   "id": "0613a462-f5ad-41b3-abae-c43b6e858989",
   "metadata": {},
   "source": [
    "```bash\n",
    "python -c \"from functional_testing_tutorial.fire_equations import FireEquations; print('Library installed!')\"\n",
    "```"
   ]
  },
  {
   "cell_type": "markdown",
   "id": "4015d5b4-1060-464b-a4f1-0ce0ed70e801",
   "metadata": {
    "editable": true,
    "slideshow": {
     "slide_type": ""
    },
    "tags": []
   },
   "source": [
    "If you see `Library installed!`, you're good to go!"
   ]
  }
 ],
 "metadata": {
  "kernelspec": {
   "display_name": "Python 3 (ipykernel)",
   "language": "python",
   "name": "python3"
  },
  "language_info": {
   "codemirror_mode": {
    "name": "ipython",
    "version": 3
   },
   "file_extension": ".py",
   "mimetype": "text/x-python",
   "name": "python",
   "nbconvert_exporter": "python",
   "pygments_lexer": "ipython3",
   "version": "3.10.14"
  }
 },
 "nbformat": 4,
 "nbformat_minor": 5
}
