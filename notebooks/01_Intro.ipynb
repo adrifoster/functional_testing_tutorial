{
 "cells": [
  {
   "cell_type": "markdown",
   "id": "f46ce701-c9cb-4f27-9a53-8500ec0a9f54",
   "metadata": {},
   "source": [
    "# Functional Testing Practical"
   ]
  },
  {
   "cell_type": "markdown",
   "id": "d5495a11-a394-4cc2-94f7-4d0ce5ff5495",
   "metadata": {},
   "source": [
    "With this short tutorial, we’ll learn how to create some \"functional tests\" using a mock up of some production code."
   ]
  },
  {
   "cell_type": "markdown",
   "id": "8a2a1f49-9cbc-41a3-bc89-822ebc23acc1",
   "metadata": {},
   "source": [
    "## Why This Matters"
   ]
  },
  {
   "cell_type": "markdown",
   "id": "5db98eaa-c752-43bd-83e8-1743e2969dad",
   "metadata": {},
   "source": [
    "We often work with large code bases, and ensuring that each individual piece is working is difficult. By isolating individual parts of the code base, while still *utilizing* the codebase, we can exercise and test parts of the code, knowing that we are testing the actual production code.\n",
    "\n",
    "Unlike **unit tests**, functional tests don't necessarily have a pass/fail state. Functional tests can be used to explore output from a method given known input values, or a range of possible values.\n",
    "\n",
    "These tests can help with identifying code bugs and errors, or in exploring new ways of representing our science."
   ]
  },
  {
   "cell_type": "markdown",
   "id": "e6a06a1a-81ee-4d7f-984a-9010346b1921",
   "metadata": {},
   "source": [
    "## What We'll Do"
   ]
  },
  {
   "cell_type": "markdown",
   "id": "759f4392-2ab0-4135-bc48-3a194d656919",
   "metadata": {},
   "source": [
    "We will work through a few examples of creating functional tests for a mock up of a python library intended to simulate fire behavior. This code has been translated from the Fortran \"SPITFIRE\" code in the [FATES](https://github.com/NGEET/fates) repository for ease of use in this tutorial. However, the concepts here are directly applicable to the original code base (or other large Fortran codebases)."
   ]
  },
  {
   "cell_type": "markdown",
   "id": "8b795322-1433-4ad5-9d86-af455f3ae073",
   "metadata": {},
   "source": [
    "We will start with a basic example of utilizing and exercising a method from the source code. Gradually, we will explore more complex uses of the methods in the source code, investigating using synthetic fuels and comparing to and driving with known observational data."
   ]
  },
  {
   "cell_type": "code",
   "execution_count": null,
   "id": "6eae9819-0f74-4d3a-aa90-985d569b40e0",
   "metadata": {},
   "outputs": [],
   "source": []
  }
 ],
 "metadata": {
  "kernelspec": {
   "display_name": "Python 3 (ipykernel)",
   "language": "python",
   "name": "python3"
  },
  "language_info": {
   "codemirror_mode": {
    "name": "ipython",
    "version": 3
   },
   "file_extension": ".py",
   "mimetype": "text/x-python",
   "name": "python",
   "nbconvert_exporter": "python",
   "pygments_lexer": "ipython3",
   "version": "3.10.14"
  }
 },
 "nbformat": 4,
 "nbformat_minor": 5
}
