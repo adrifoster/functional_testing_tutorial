{
 "cells": [
  {
   "cell_type": "markdown",
   "id": "c05cf74f-66f9-4c61-957c-5cc1cff41b46",
   "metadata": {},
   "source": [
    "# Part 2 - Using a Class and Its Methods\n",
    "\n",
    "## Exercising methods of the `Fuel` class\n",
    "\n",
    "In this section, we’ll move from testing single equations to testing behaviors of class objects.\n",
    "\n",
    "We’ll use the `Fuel` class, `FireParams`, and `FireEquations` from our source code. We will also introduce our \"synthetic\" fuels, which can be used to quickly mock up fuel objects that are based in reality, but have known conditions for more straightforward testing.\n",
    "\n",
    "---\n",
    "\n",
    "## Goals\n",
    "\n",
    "* Instantiate `Fuel` objects based in reality, but with basic, standardized characteristics\n",
    "* Test methods of the `Fuel` class\n",
    "* Check qualitative properties like monotonicity, bounds, and trends.\n",
    "* Visualize outputs to spot unexpected behavior.\n",
    "* Illustrate separation of concerns for better testability.\n",
    "  \n",
    "---\n",
    "\n",
    "## Key Concepts\n",
    "\n",
    "* **Synthetic inputs**: Create simple, controlled examples to explore expected behavior.\n",
    "\n",
    "---\n",
    "\n",
    "## Exercise 2.1: Set up `Fuel` object\n",
    "\n",
    "Check out the code in the `fuel_class.py` file. This file contains our `Fuel` class:\n",
    "\n",
    "```python\n",
    "class Fuel:\n",
    "    \"\"\"Represents fuel characteristics of a patch of land\"\"\"\n",
    "\n",
    "    def __init__(self, params: FireParams) -> None:\n",
    "        \"\"\"Initialize a new Fuel instance.\n",
    "\n",
    "        Args:\n",
    "            params (FireParams): parameters\n",
    "        \"\"\"\n",
    "        self.params = params\n",
    "        self.loading = np.zeros(NUM_FUEL_CLASSES, dtype=float)\n",
    "        self.effective_moisture = np.zeros(NUM_FUEL_CLASSES, dtype=float)\n",
    "        self.frac_loading = np.zeros(NUM_FUEL_CLASSES, dtype=float)\n",
    "        self.frac_burnt = np.zeros(NUM_FUEL_CLASSES, dtype=float)\n",
    "        self.non_trunk_loading = 0.0\n",
    "        self.average_moisture_notrunks = 0.0\n",
    "        self.bulk_density_notrunks = 0.0\n",
    "        self.sav_notrunks = 0.0\n",
    "        self.mef_notrunks = 0.0\n",
    "```\n",
    "\n",
    "This class houses characteristics of fuel for a patch of land that we are interested in, including amount of fuel (`loading`, kgC m$^{-2}$), moisture (`effective_moisture`, m$^3$ m$^{-3}$), fraction burnt (`frac_burnt`), bulk density (`bulk_density_notrunks`, kg m$^{-3}$), and surface area to volume ratio (`sav_no_trunks`, cm$^{-1}$).\n",
    "\n",
    "There are also methods for the `Fuel` class, like `update_loading`, `compute_moisture`, and `average_bulk_density_no_trunks`.\n",
    "\n",
    "### More about fuel\n",
    "\n",
    "In the Rothermel fuel model, surface fuel is broken up by size, as this is one of the primary characteristics that effects fire behaviour:\n",
    "\n",
    "#### Fuel classes\n",
    "1. \"1-hour\" fuels (i.e., dead leaves)\n",
    "2. \"10-hour\" fuels (i.e., twig litter)\n",
    "3. \"100-hour\" fuels (i.e., branch litter)\n",
    "4. \"1000-hour\" fuels (i.e., downed trunks)\n",
    "5. live herbaceous fuel (i.e., grasses)\n",
    "\n",
    "In the FATES code, we additionally break the branch litter up into small and large branches, thus representing six total fuel classes. Notice that some of the `Fuel` object attributes are (size 6) arrays, but some are scalars. The arrays hold values for each fuel class, whereas the scalars represent weighted-averages across the fuel classes.\n",
    "\n",
    "<div class=\"alert alert-block alert-info\"><b>Note: </b> Trunks are not used to calculate rate of spread, but we are interested in how much they may burn. As such, our weighted-average scalars do not include trunks in the averaging, but we still want to capture information about them in our arrays.</div>\n",
    "\n",
    "---\n",
    "\n",
    "### Instatiating the `Fuel` object\n",
    "\n",
    "Alright, let's go ahead and instantiate an instance of the `Fuel` class. We need parameter values from our `FireParams` class. We can just go head and read in the default parameter file."
   ]
  },
  {
   "cell_type": "code",
   "execution_count": 1,
   "id": "767f9562-a867-4cff-b20c-9347c4c29fcd",
   "metadata": {},
   "outputs": [
    {
     "name": "stdout",
     "output_type": "stream",
     "text": [
      "Fuel instance state:\n",
      "  Loading (kgC/m2): [0. 0. 0. 0. 0. 0.]\n",
      "  Effective moisture (m3/m3): [0. 0. 0. 0. 0. 0.]\n",
      "  Fractional loading: [0. 0. 0. 0. 0. 0.]\n",
      "  Fraction burnt: [0. 0. 0. 0. 0. 0.]\n",
      "  Non-trunk loading (kgC/m2): 0.0000\n",
      "  Avg moisture (non-trunks, m3/m3): 0.0000\n",
      "  Bulk density (non-trunks, kg/m3): 0.0000\n",
      "  SAV (non-trunks, /cm): 0.0000\n",
      "  MEF (non-trunks, m3/m3): 0.0000\n"
     ]
    }
   ],
   "source": [
    "from fire_model.fire_params import FireParams\n",
    "from fire_model.fuel_class import Fuel\n",
    "\n",
    "# read in parameter file\n",
    "params = FireParams.from_yaml(\"../parameter_files/fire_parameters.yaml\")\n",
    "\n",
    "# instantiate a fuel object\n",
    "fuel = Fuel(params)\n",
    "\n",
    "# print out the attributes of the fuel instance\n",
    "fuel.describe()"
   ]
  },
  {
   "cell_type": "markdown",
   "id": "521f730c-3349-4cff-870c-ac7f86b24bd0",
   "metadata": {},
   "source": [
    "Well, this is not very interesting or useful. By design, the `Fuel` objects are instantiated with all zeros. If we try to call its methods, we will probably get really unintersting (and unhelpful) results."
   ]
  },
  {
   "cell_type": "code",
   "execution_count": null,
   "id": "bc7f6163-3b14-496e-a3f4-02143e4bdeaa",
   "metadata": {},
   "outputs": [],
   "source": []
  }
 ],
 "metadata": {
  "kernelspec": {
   "display_name": "Python 3 (ipykernel)",
   "language": "python",
   "name": "python3"
  },
  "language_info": {
   "codemirror_mode": {
    "name": "ipython",
    "version": 3
   },
   "file_extension": ".py",
   "mimetype": "text/x-python",
   "name": "python",
   "nbconvert_exporter": "python",
   "pygments_lexer": "ipython3",
   "version": "3.10.19"
  }
 },
 "nbformat": 4,
 "nbformat_minor": 5
}
